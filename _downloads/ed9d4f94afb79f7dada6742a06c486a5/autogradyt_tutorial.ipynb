{
  "cells": [
    {
      "cell_type": "markdown",
      "metadata": {
        "id": "view-in-github",
        "colab_type": "text"
      },
      "source": [
        "<a href=\"https://colab.research.google.com/github/Vr1155/pytorch_basics/blob/main/_downloads/ed9d4f94afb79f7dada6742a06c486a5/autogradyt_tutorial.ipynb\" target=\"_parent\"><img src=\"https://colab.research.google.com/assets/colab-badge.svg\" alt=\"Open In Colab\"/></a>"
      ]
    },
    {
      "cell_type": "code",
      "execution_count": 1,
      "metadata": {
        "id": "PV2AUMENK98H"
      },
      "outputs": [],
      "source": [
        "# For tips on running notebooks in Google Colab, see\n",
        "# https://pytorch.org/tutorials/beginner/colab\n",
        "%matplotlib inline"
      ]
    },
    {
      "cell_type": "markdown",
      "metadata": {
        "id": "L-FkoRb3K98J"
      },
      "source": [
        "[Introduction](introyt1_tutorial.html) \\|\\|\n",
        "[Tensors](tensors_deeper_tutorial.html) \\|\\| **Autograd** \\|\\| [Building\n",
        "Models](modelsyt_tutorial.html) \\|\\| [TensorBoard\n",
        "Support](tensorboardyt_tutorial.html) \\|\\| [Training\n",
        "Models](trainingyt.html) \\|\\| [Model Understanding](captumyt.html)\n",
        "\n",
        "The Fundamentals of Autograd\n",
        "============================\n",
        "\n",
        "Follow along with the video below or on\n",
        "[youtube](https://www.youtube.com/watch?v=M0fX15_-xrY).\n",
        "\n"
      ]
    },
    {
      "cell_type": "code",
      "execution_count": 2,
      "metadata": {
        "id": "b6e94f78",
        "outputId": "08de9bee-d0d6-4b4c-b1e0-7c43c8f6f9dc",
        "colab": {
          "base_uri": "https://localhost:8080/",
          "height": 357
        }
      },
      "outputs": [
        {
          "output_type": "display_data",
          "data": {
            "text/plain": [
              "<IPython.core.display.HTML object>"
            ],
            "text/html": [
              "\n",
              "<div style=\"margin-top:10px; margin-bottom:10px;\">\n",
              "  <iframe width=\"560\" height=\"315\" src=\"https://www.youtube.com/embed/M0fX15_-xrY\" frameborder=\"0\" allow=\"accelerometer; encrypted-media; gyroscope; picture-in-picture\" allowfullscreen></iframe>\n",
              "</div>\n"
            ]
          },
          "metadata": {}
        }
      ],
      "source": [
        "# Run this cell to load the video\n",
        "from IPython.display import display, HTML\n",
        "html_code = \"\"\"\n",
        "<div style=\"margin-top:10px; margin-bottom:10px;\">\n",
        "  <iframe width=\"560\" height=\"315\" src=\"https://www.youtube.com/embed/M0fX15_-xrY\" frameborder=\"0\" allow=\"accelerometer; encrypted-media; gyroscope; picture-in-picture\" allowfullscreen></iframe>\n",
        "</div>\n",
        "\"\"\"\n",
        "display(HTML(html_code))"
      ]
    },
    {
      "cell_type": "markdown",
      "metadata": {
        "id": "27b1a2e9"
      },
      "source": [
        "\n",
        "\n",
        "PyTorch's *Autograd* feature is part of what make PyTorch flexible and\n",
        "fast for building machine learning projects. It allows for the rapid and\n",
        "easy computation of multiple partial derivatives (also referred to as\n",
        "*gradients)* over a complex computation. This operation is central to\n",
        "backpropagation-based neural network learning.\n",
        "\n",
        "The power of autograd comes from the fact that it traces your\n",
        "computation dynamically *at runtime,* meaning that if your model has\n",
        "decision branches, or loops whose lengths are not known until runtime,\n",
        "the computation will still be traced correctly, and you'll get correct\n",
        "gradients to drive learning. This, combined with the fact that your\n",
        "models are built in Python, offers far more flexibility than frameworks\n",
        "that rely on static analysis of a more rigidly-structured model for\n",
        "computing gradients.\n",
        "\n",
        "What Do We Need Autograd For?\n",
        "-----------------------------\n"
      ]
    },
    {
      "cell_type": "markdown",
      "metadata": {
        "id": "dTmvDXTfK98M"
      },
      "source": [
        "A machine learning model is a *function*, with inputs and outputs. For\n",
        "this discussion, we'll treat the inputs as an *i*-dimensional vector\n",
        "$\\vec{x}$, with elements $x_{i}$. We can then express the model, *M*, as\n",
        "a vector-valued function of the input: $\\vec{y} =\n",
        "\\vec{M}(\\vec{x})$. (We treat the value of M's output as a vector because\n",
        "in general, a model may have any number of outputs.)\n",
        "\n",
        "Since we'll mostly be discussing autograd in the context of training,\n",
        "our output of interest will be the model's loss. The *loss function*\n",
        "L($\\vec{y}$) = L($\\vec{M}$($\\vec{x}$)) is a single-valued scalar\n",
        "function of the model's output. This function expresses how far off our\n",
        "model's prediction was from a particular input's *ideal* output. *Note:\n",
        "After this point, we will often omit the vector sign where it should be\n",
        "contextually clear - e.g.,* $y$ instead of $\\vec y$.\n",
        "\n",
        "In training a model, we want to minimize the loss. In the idealized case\n",
        "of a perfect model, that means adjusting its learning weights - that is,\n",
        "the adjustable parameters of the function - such that loss is zero for\n",
        "all inputs. In the real world, it means an iterative process of nudging\n",
        "the learning weights until we see that we get a tolerable loss for a\n",
        "wide variety of inputs.\n",
        "\n",
        "How do we decide how far and in which direction to nudge the weights? We\n",
        "want to *minimize* the loss, which means making its first derivative\n",
        "with respect to the input equal to 0:\n",
        "$\\frac{\\partial L}{\\partial x} = 0$.\n",
        "\n",
        "Recall, though, that the loss is not *directly* derived from the input,\n",
        "but a function of the model's output (which is a function of the input\n",
        "directly), $\\frac{\\partial L}{\\partial x}$ =\n",
        "$\\frac{\\partial {L({\\vec y})}}{\\partial x}$. By the chain rule of\n",
        "differential calculus, we have\n",
        "$\\frac{\\partial {L({\\vec y})}}{\\partial x}$ =\n",
        "$\\frac{\\partial L}{\\partial y}\\frac{\\partial y}{\\partial x}$ =\n",
        "$\\frac{\\partial L}{\\partial y}\\frac{\\partial M(x)}{\\partial x}$.\n",
        "\n",
        "$\\frac{\\partial M(x)}{\\partial x}$ is where things get complex. The\n",
        "partial derivatives of the model's outputs with respect to its inputs,\n",
        "if we were to expand the expression using the chain rule again, would\n",
        "involve many local partial derivatives over every multiplied learning\n",
        "weight, every activation function, and every other mathematical\n",
        "transformation in the model. The full expression for each such partial\n",
        "derivative is the sum of the products of the local gradient of *every\n",
        "possible path* through the computation graph that ends with the variable\n",
        "whose gradient we are trying to measure.\n",
        "\n",
        "In particular, the gradients over the learning weights are of interest\n",
        "to us - they tell us *what direction to change each weight* to get the\n",
        "loss function closer to zero.\n",
        "\n",
        "Since the number of such local derivatives (each corresponding to a\n",
        "separate path through the model's computation graph) will tend to go up\n",
        "exponentially with the depth of a neural network, so does the complexity\n",
        "in computing them. This is where autograd comes in: It tracks the\n",
        "history of every computation. Every computed tensor in your PyTorch\n",
        "model carries a history of its input tensors and the function used to\n",
        "create it. Combined with the fact that PyTorch functions meant to act on\n",
        "tensors each have a built-in implementation for computing their own\n",
        "derivatives, this greatly speeds the computation of the local\n",
        "derivatives needed for learning.\n",
        "\n",
        "A Simple Example\n",
        "================\n",
        "\n",
        "That was a lot of theory - but what does it look like to use autograd in\n",
        "practice?\n",
        "\n",
        "Let's start with a straightforward example. First, we'll do some imports\n",
        "to let us graph our results:\n"
      ]
    },
    {
      "cell_type": "code",
      "execution_count": 3,
      "metadata": {
        "id": "vP4dO1tfK98N"
      },
      "outputs": [],
      "source": [
        "# %matplotlib inline\n",
        "\n",
        "import torch\n",
        "\n",
        "import matplotlib.pyplot as plt\n",
        "import matplotlib.ticker as ticker\n",
        "import math"
      ]
    },
    {
      "cell_type": "markdown",
      "metadata": {
        "id": "6qde9nuRK98O"
      },
      "source": [
        "Next, we'll create an input tensor full of evenly spaced values on the\n",
        "interval $[0, 2{\\pi}]$, and specify `requires_grad=True`. (Like most\n",
        "functions that create tensors, `torch.linspace()` accepts an optional\n",
        "`requires_grad` option.) Setting this flag means that in every\n",
        "computation that follows, autograd will be accumulating the history of\n",
        "the computation in the output tensors of that computation.\n"
      ]
    },
    {
      "cell_type": "code",
      "execution_count": 4,
      "metadata": {
        "id": "-CM6D9ODK98O",
        "outputId": "59252bd6-008e-4657-e3d3-4626ca3e3642",
        "colab": {
          "base_uri": "https://localhost:8080/"
        }
      },
      "outputs": [
        {
          "output_type": "stream",
          "name": "stdout",
          "text": [
            "tensor([0.0000, 0.2618, 0.5236, 0.7854, 1.0472, 1.3090, 1.5708, 1.8326, 2.0944,\n",
            "        2.3562, 2.6180, 2.8798, 3.1416, 3.4034, 3.6652, 3.9270, 4.1888, 4.4506,\n",
            "        4.7124, 4.9742, 5.2360, 5.4978, 5.7596, 6.0214, 6.2832],\n",
            "       requires_grad=True)\n"
          ]
        }
      ],
      "source": [
        "a = torch.linspace(0., 2. * math.pi, steps=25, requires_grad=True)\n",
        "print(a)"
      ]
    },
    {
      "cell_type": "markdown",
      "metadata": {
        "id": "vBxYpXZvK98P"
      },
      "source": [
        "Next, we'll perform a computation, and plot its output in terms of its\n",
        "inputs:\n"
      ]
    },
    {
      "cell_type": "code",
      "execution_count": 5,
      "metadata": {
        "id": "vj2L7yjTK98P",
        "outputId": "f9907496-d164-485d-d8b8-3e95e4eaf6b3",
        "colab": {
          "base_uri": "https://localhost:8080/",
          "height": 447
        }
      },
      "outputs": [
        {
          "output_type": "execute_result",
          "data": {
            "text/plain": [
              "[<matplotlib.lines.Line2D at 0x7ad9e1d81e10>]"
            ]
          },
          "metadata": {},
          "execution_count": 5
        },
        {
          "output_type": "display_data",
          "data": {
            "text/plain": [
              "<Figure size 640x480 with 1 Axes>"
            ],
            "image/png": "[encoded data removed]"
          },
          "metadata": {}
        }
      ],
      "source": [
        "b = torch.sin(a)\n",
        "plt.plot(a.detach(), b.detach())"
      ]
    },
    {
      "cell_type": "markdown",
      "metadata": {
        "id": "vmjNtR6QK98Q"
      },
      "source": [
        "Let's have a closer look at the tensor `b`. When we print it, we see an\n",
        "indicator that it is tracking its computation history:\n"
      ]
    },
    {
      "cell_type": "code",
      "execution_count": 6,
      "metadata": {
        "id": "UBQ0Wxq_K98Q",
        "outputId": "6a27a5c4-1151-42d8-c02f-2fdc3294362b",
        "colab": {
          "base_uri": "https://localhost:8080/"
        }
      },
      "outputs": [
        {
          "output_type": "stream",
          "name": "stdout",
          "text": [
            "tensor([ 0.0000e+00,  2.5882e-01,  5.0000e-01,  7.0711e-01,  8.6603e-01,\n",
            "         9.6593e-01,  1.0000e+00,  9.6593e-01,  8.6603e-01,  7.0711e-01,\n",
            "         5.0000e-01,  2.5882e-01, -8.7423e-08, -2.5882e-01, -5.0000e-01,\n",
            "        -7.0711e-01, -8.6603e-01, -9.6593e-01, -1.0000e+00, -9.6593e-01,\n",
            "        -8.6603e-01, -7.0711e-01, -5.0000e-01, -2.5882e-01,  1.7485e-07],\n",
            "       grad_fn=<SinBackward0>)\n"
          ]
        }
      ],
      "source": [
        "print(b)"
      ]
    },
    {
      "cell_type": "markdown",
      "metadata": {
        "id": "kYv6lt-MK98Q"
      },
      "source": [
        "This `grad_fn` gives us a hint that when we execute the backpropagation\n",
        "step and compute gradients, we'll need to compute the derivative of\n",
        "$\\sin(x)$ for all this tensor's inputs.\n",
        "\n",
        "Let's perform some more computations:\n"
      ]
    },
    {
      "cell_type": "code",
      "execution_count": 7,
      "metadata": {
        "id": "t0djSR4rK98Q",
        "outputId": "be7c5384-2963-405d-d972-7fad2f611c86",
        "colab": {
          "base_uri": "https://localhost:8080/"
        }
      },
      "outputs": [
        {
          "output_type": "stream",
          "name": "stdout",
          "text": [
            "tensor([ 0.0000e+00,  5.1764e-01,  1.0000e+00,  1.4142e+00,  1.7321e+00,\n",
            "         1.9319e+00,  2.0000e+00,  1.9319e+00,  1.7321e+00,  1.4142e+00,\n",
            "         1.0000e+00,  5.1764e-01, -1.7485e-07, -5.1764e-01, -1.0000e+00,\n",
            "        -1.4142e+00, -1.7321e+00, -1.9319e+00, -2.0000e+00, -1.9319e+00,\n",
            "        -1.7321e+00, -1.4142e+00, -1.0000e+00, -5.1764e-01,  3.4969e-07],\n",
            "       grad_fn=<MulBackward0>)\n",
            "tensor([ 1.0000e+00,  1.5176e+00,  2.0000e+00,  2.4142e+00,  2.7321e+00,\n",
            "         2.9319e+00,  3.0000e+00,  2.9319e+00,  2.7321e+00,  2.4142e+00,\n",
            "         2.0000e+00,  1.5176e+00,  1.0000e+00,  4.8236e-01, -3.5763e-07,\n",
            "        -4.1421e-01, -7.3205e-01, -9.3185e-01, -1.0000e+00, -9.3185e-01,\n",
            "        -7.3205e-01, -4.1421e-01,  4.7684e-07,  4.8236e-01,  1.0000e+00],\n",
            "       grad_fn=<AddBackward0>)\n"
          ]
        }
      ],
      "source": [
        "c = 2 * b\n",
        "print(c)\n",
        "\n",
        "d = c + 1\n",
        "print(d)"
      ]
    },
    {
      "cell_type": "markdown",
      "metadata": {
        "id": "yvkdq8P7K98R"
      },
      "source": [
        "Finally, let's compute a single-element output. When you call\n",
        "`.backward()` on a tensor with no arguments, it expects the calling\n",
        "tensor to contain only a single element, as is the case when computing a\n",
        "loss function.\n"
      ]
    },
    {
      "cell_type": "code",
      "execution_count": 8,
      "metadata": {
        "id": "_gp9iKMCK98R",
        "outputId": "475c2cd0-b746-4573-9928-afd87c5ef86b",
        "colab": {
          "base_uri": "https://localhost:8080/"
        }
      },
      "outputs": [
        {
          "output_type": "stream",
          "name": "stdout",
          "text": [
            "tensor(25., grad_fn=<SumBackward0>)\n"
          ]
        }
      ],
      "source": [
        "out = d.sum()\n",
        "print(out)"
      ]
    },
    {
      "cell_type": "markdown",
      "metadata": {
        "id": "Ba33zXKbK98R"
      },
      "source": [
        "Each `grad_fn` stored with our tensors allows you to walk the\n",
        "computation all the way back to its inputs with its `next_functions`\n",
        "property. We can see below that drilling down on this property on `d`\n",
        "shows us the gradient functions for all the prior tensors. Note that\n",
        "`a.grad_fn` is reported as `None`, indicating that this was an input to\n",
        "the function with no history of its own.\n"
      ]
    },
    {
      "cell_type": "code",
      "execution_count": 9,
      "metadata": {
        "id": "LV1K-KHxK98R",
        "outputId": "85ae5577-d5be-40c5-b451-f72978bb27a9",
        "colab": {
          "base_uri": "https://localhost:8080/"
        }
      },
      "outputs": [
        {
          "output_type": "stream",
          "name": "stdout",
          "text": [
            "d:\n",
            "<AddBackward0 object at 0x7ad9e1b400a0>\n",
            "((<MulBackward0 object at 0x7ad9e1b40eb0>, 0), (None, 0))\n",
            "((<SinBackward0 object at 0x7ad9e1b400a0>, 0), (None, 0))\n",
            "((<AccumulateGrad object at 0x7ad9e1b40e80>, 0),)\n",
            "()\n",
            "\n",
            "c:\n",
            "<MulBackward0 object at 0x7ad9e1b40eb0>\n",
            "\n",
            "b:\n",
            "<SinBackward0 object at 0x7ad9e1b40eb0>\n",
            "\n",
            "a:\n",
            "None\n"
          ]
        }
      ],
      "source": [
        "print('d:')\n",
        "print(d.grad_fn)\n",
        "print(d.grad_fn.next_functions)\n",
        "print(d.grad_fn.next_functions[0][0].next_functions)\n",
        "print(d.grad_fn.next_functions[0][0].next_functions[0][0].next_functions)\n",
        "print(d.grad_fn.next_functions[0][0].next_functions[0][0].next_functions[0][0].next_functions)\n",
        "print('\\nc:')\n",
        "print(c.grad_fn)\n",
        "print('\\nb:')\n",
        "print(b.grad_fn)\n",
        "print('\\na:')\n",
        "print(a.grad_fn)"
      ]
    },
    {
      "cell_type": "markdown",
      "metadata": {
        "id": "HVEFncu-K98S"
      },
      "source": [
        "With all this machinery in place, how do we get derivatives out? You\n",
        "call the `backward()` method on the output, and check the input's `grad`\n",
        "property to inspect the gradients:\n"
      ]
    },
    {
      "cell_type": "code",
      "execution_count": 10,
      "metadata": {
        "id": "UPQvMfp9K98S",
        "outputId": "ee0cd08a-9ab7-44f1-f55a-d8b1d379e87b",
        "colab": {
          "base_uri": "https://localhost:8080/",
          "height": 534
        }
      },
      "outputs": [
        {
          "output_type": "stream",
          "name": "stdout",
          "text": [
            "tensor([ 2.0000e+00,  1.9319e+00,  1.7321e+00,  1.4142e+00,  1.0000e+00,\n",
            "         5.1764e-01, -8.7423e-08, -5.1764e-01, -1.0000e+00, -1.4142e+00,\n",
            "        -1.7321e+00, -1.9319e+00, -2.0000e+00, -1.9319e+00, -1.7321e+00,\n",
            "        -1.4142e+00, -1.0000e+00, -5.1764e-01,  2.3850e-08,  5.1764e-01,\n",
            "         1.0000e+00,  1.4142e+00,  1.7321e+00,  1.9319e+00,  2.0000e+00])\n"
          ]
        },
        {
          "output_type": "execute_result",
          "data": {
            "text/plain": [
              "[<matplotlib.lines.Line2D at 0x7ad9e1d5bb50>]"
            ]
          },
          "metadata": {},
          "execution_count": 10
        },
        {
          "output_type": "display_data",
          "data": {
            "text/plain": [
              "<Figure size 640x480 with 1 Axes>"
            ],
            "image/png": "[encoded data removed]"
          },
          "metadata": {}
        }
      ],
      "source": [
        "out.backward()\n",
        "print(a.grad)\n",
        "plt.plot(a.detach(), a.grad.detach())"
      ]
    },
    {
      "cell_type": "markdown",
      "metadata": {
        "id": "ud-m9pbTK98S"
      },
      "source": [
        "Recall the computation steps we took to get here:\n",
        "\n",
        "``` {.python}\n",
        "a = torch.linspace(0., 2. * math.pi, steps=25, requires_grad=True)\n",
        "b = torch.sin(a)\n",
        "c = 2 * b\n",
        "d = c + 1\n",
        "out = d.sum()\n",
        "```\n",
        "\n",
        "Adding a constant, as we did to compute `d`, does not change the\n",
        "derivative. That leaves $c = 2 * b = 2 * \\sin(a)$, the derivative of\n",
        "which should be $2 * \\cos(a)$. Looking at the graph above, that's just\n",
        "what we see.\n",
        "\n",
        "Be aware that only *leaf nodes* of the computation have their gradients\n",
        "computed. If you tried, for example, `print(c.grad)` you'd get back\n",
        "`None`. In this simple example, only the input is a leaf node, so only\n",
        "it has gradients computed.\n",
        "\n",
        "Autograd in Training\n",
        "====================\n",
        "\n",
        "We've had a brief look at how autograd works, but how does it look when\n",
        "it's used for its intended purpose? Let's define a small model and\n",
        "examine how it changes after a single training batch. First, define a\n",
        "few constants, our model, and some stand-ins for inputs and outputs:\n"
      ]
    },
    {
      "cell_type": "code",
      "execution_count": 11,
      "metadata": {
        "id": "6-Bw5xpvK98S"
      },
      "outputs": [],
      "source": [
        "BATCH_SIZE = 16\n",
        "DIM_IN = 1000\n",
        "HIDDEN_SIZE = 100\n",
        "DIM_OUT = 10\n",
        "\n",
        "class TinyModel(torch.nn.Module):\n",
        "\n",
        "    def __init__(self):\n",
        "        super(TinyModel, self).__init__()\n",
        "\n",
        "        self.layer1 = torch.nn.Linear(DIM_IN, HIDDEN_SIZE)\n",
        "        self.relu = torch.nn.ReLU()\n",
        "        self.layer2 = torch.nn.Linear(HIDDEN_SIZE, DIM_OUT)\n",
        "\n",
        "    def forward(self, x):\n",
        "        x = self.layer1(x)\n",
        "        x = self.relu(x)\n",
        "        x = self.layer2(x)\n",
        "        return x\n",
        "\n",
        "some_input = torch.randn(BATCH_SIZE, DIM_IN, requires_grad=False)\n",
        "ideal_output = torch.randn(BATCH_SIZE, DIM_OUT, requires_grad=False)\n",
        "\n",
        "model = TinyModel()"
      ]
    },
    {
      "cell_type": "markdown",
      "metadata": {
        "id": "ar76Z964K98S"
      },
      "source": [
        "One thing you might notice is that we never specify `requires_grad=True`\n",
        "for the model's layers. Within a subclass of `torch.nn.Module`, it's\n",
        "assumed that we want to track gradients on the layers' weights for\n",
        "learning.\n",
        "\n",
        "If we look at the layers of the model, we can examine the values of the\n",
        "weights, and verify that no gradients have been computed yet:\n"
      ]
    },
    {
      "cell_type": "code",
      "execution_count": 12,
      "metadata": {
        "id": "xfWHEtzlK98T",
        "outputId": "193d64f6-16c5-445d-9305-37d53c3815f9",
        "colab": {
          "base_uri": "https://localhost:8080/"
        }
      },
      "outputs": [
        {
          "output_type": "stream",
          "name": "stdout",
          "text": [
            "tensor([ 0.0551,  0.0837, -0.0616,  0.0578, -0.0528, -0.0472, -0.0189, -0.0025,\n",
            "        -0.0126,  0.0470], grad_fn=<SliceBackward0>)\n",
            "None\n"
          ]
        }
      ],
      "source": [
        "print(model.layer2.weight[0][0:10]) # just a small slice\n",
        "print(model.layer2.weight.grad)"
      ]
    },
    {
      "cell_type": "markdown",
      "metadata": {
        "id": "2W6P652VK98T"
      },
      "source": [
        "Let's see how this changes when we run through one training batch. For a\n",
        "loss function, we'll just use the square of the Euclidean distance\n",
        "between our `prediction` and the `ideal_output`, and we'll use a basic\n",
        "stochastic gradient descent optimizer.\n"
      ]
    },
    {
      "cell_type": "code",
      "execution_count": 13,
      "metadata": {
        "id": "Bfxk096UK98T",
        "outputId": "4dfa6791-089e-4b32-b775-3b92cb2e7e85",
        "colab": {
          "base_uri": "https://localhost:8080/"
        }
      },
      "outputs": [
        {
          "output_type": "stream",
          "name": "stdout",
          "text": [
            "tensor(150.0886, grad_fn=<SumBackward0>)\n"
          ]
        }
      ],
      "source": [
        "optimizer = torch.optim.SGD(model.parameters(), lr=0.001)\n",
        "\n",
        "prediction = model(some_input)\n",
        "\n",
        "loss = (ideal_output - prediction).pow(2).sum()\n",
        "print(loss)"
      ]
    },
    {
      "cell_type": "markdown",
      "metadata": {
        "id": "vCVX64jgK98T"
      },
      "source": [
        "Now, let's call `loss.backward()` and see what happens:\n"
      ]
    },
    {
      "cell_type": "code",
      "execution_count": 14,
      "metadata": {
        "id": "nHzbeHGtK98T",
        "outputId": "1091e207-3969-494d-a904-47206360cdae",
        "colab": {
          "base_uri": "https://localhost:8080/"
        }
      },
      "outputs": [
        {
          "output_type": "stream",
          "name": "stdout",
          "text": [
            "tensor([ 0.0551,  0.0837, -0.0616,  0.0578, -0.0528, -0.0472, -0.0189, -0.0025,\n",
            "        -0.0126,  0.0470], grad_fn=<SliceBackward0>)\n",
            "tensor([ 0.2565, -3.5609, -3.0958,  3.4358,  0.2042,  1.1277, -0.6108, -3.8813,\n",
            "         0.2160,  0.8550])\n"
          ]
        }
      ],
      "source": [
        "loss.backward()\n",
        "print(model.layer2.weight[0][0:10])\n",
        "print(model.layer2.weight.grad[0][0:10])"
      ]
    },
    {
      "cell_type": "markdown",
      "metadata": {
        "id": "e_4RGFSHK98T"
      },
      "source": [
        "We can see that the gradients have been computed for each learning\n",
        "weight, but the weights remain unchanged, because we haven't run the\n",
        "optimizer yet. The optimizer is responsible for updating model weights\n",
        "based on the computed gradients.\n"
      ]
    },
    {
      "cell_type": "code",
      "execution_count": 15,
      "metadata": {
        "id": "q2xOKY0sK98U",
        "outputId": "bc53e1f4-c563-4ba4-f2f2-5fb6a1384d3f",
        "colab": {
          "base_uri": "https://localhost:8080/"
        }
      },
      "outputs": [
        {
          "output_type": "stream",
          "name": "stdout",
          "text": [
            "tensor([ 0.0549,  0.0873, -0.0586,  0.0543, -0.0530, -0.0483, -0.0183,  0.0014,\n",
            "        -0.0128,  0.0461], grad_fn=<SliceBackward0>)\n",
            "tensor([ 0.2565, -3.5609, -3.0958,  3.4358,  0.2042,  1.1277, -0.6108, -3.8813,\n",
            "         0.2160,  0.8550])\n"
          ]
        }
      ],
      "source": [
        "optimizer.step()\n",
        "print(model.layer2.weight[0][0:10])\n",
        "print(model.layer2.weight.grad[0][0:10])"
      ]
    },
    {
      "cell_type": "markdown",
      "metadata": {
        "id": "Rt9KjZgmK98U"
      },
      "source": [
        "You should see that `layer2`'s weights have changed.\n",
        "\n",
        "One important thing about the process: After calling `optimizer.step()`,\n",
        "you need to call `optimizer.zero_grad()`, or else every time you run\n",
        "`loss.backward()`, the gradients on the learning weights will\n",
        "accumulate:\n"
      ]
    },
    {
      "cell_type": "code",
      "execution_count": 16,
      "metadata": {
        "id": "eKp-HmdzK98U",
        "outputId": "23650853-6be4-412c-988e-990a11388eb0",
        "colab": {
          "base_uri": "https://localhost:8080/"
        }
      },
      "outputs": [
        {
          "output_type": "stream",
          "name": "stdout",
          "text": [
            "tensor([ 0.2565, -3.5609, -3.0958,  3.4358,  0.2042,  1.1277, -0.6108, -3.8813,\n",
            "         0.2160,  0.8550])\n",
            "tensor([  3.7356, -31.3973,   0.2677,  14.5497,   0.6422,   6.8290,  -5.6915,\n",
            "        -17.4119,   7.4812,   1.4035])\n",
            "tensor([0., 0., 0., 0., 0., 0., 0., 0., 0., 0.])\n"
          ]
        }
      ],
      "source": [
        "print(model.layer2.weight.grad[0][0:10])\n",
        "\n",
        "for i in range(0, 5):\n",
        "    prediction = model(some_input)\n",
        "    loss = (ideal_output - prediction).pow(2).sum()\n",
        "    loss.backward()\n",
        "\n",
        "print(model.layer2.weight.grad[0][0:10])\n",
        "\n",
        "optimizer.zero_grad(set_to_none=False)\n",
        "\n",
        "print(model.layer2.weight.grad[0][0:10])"
      ]
    },
    {
      "cell_type": "markdown",
      "metadata": {
        "id": "_LmmIQ5RK98U"
      },
      "source": [
        "After running the cell above, you should see that after running\n",
        "`loss.backward()` multiple times, the magnitudes of most of the\n",
        "gradients will be much larger. Failing to zero the gradients before\n",
        "running your next training batch will cause the gradients to blow up in\n",
        "this manner, causing incorrect and unpredictable learning results.\n",
        "\n",
        "Turning Autograd Off and On\n",
        "===========================\n",
        "\n",
        "There are situations where you will need fine-grained control over\n",
        "whether autograd is enabled. There are multiple ways to do this,\n",
        "depending on the situation.\n",
        "\n",
        "The simplest is to change the `requires_grad` flag on a tensor directly:\n"
      ]
    },
    {
      "cell_type": "code",
      "execution_count": 17,
      "metadata": {
        "id": "gxCZ0DaiK98U",
        "outputId": "8d840d85-b4ae-4486-e77a-d9820a1ed407",
        "colab": {
          "base_uri": "https://localhost:8080/"
        }
      },
      "outputs": [
        {
          "output_type": "stream",
          "name": "stdout",
          "text": [
            "tensor([[1., 1., 1.],\n",
            "        [1., 1., 1.]], requires_grad=True)\n",
            "tensor([[2., 2., 2.],\n",
            "        [2., 2., 2.]], grad_fn=<MulBackward0>)\n",
            "tensor([[2., 2., 2.],\n",
            "        [2., 2., 2.]])\n"
          ]
        }
      ],
      "source": [
        "a = torch.ones(2, 3, requires_grad=True)\n",
        "print(a)\n",
        "\n",
        "b1 = 2 * a\n",
        "print(b1)\n",
        "\n",
        "a.requires_grad = False\n",
        "b2 = 2 * a\n",
        "print(b2)"
      ]
    },
    {
      "cell_type": "markdown",
      "metadata": {
        "id": "sbkG5qmwK98U"
      },
      "source": [
        "In the cell above, we see that `b1` has a `grad_fn` (i.e., a traced\n",
        "computation history), which is what we expect, since it was derived from\n",
        "a tensor, `a`, that had autograd turned on. When we turn off autograd\n",
        "explicitly with `a.requires_grad = False`, computation history is no\n",
        "longer tracked, as we see when we compute `b2`.\n",
        "\n",
        "If you only need autograd turned off temporarily, a better way is to use\n",
        "the `torch.no_grad()`:\n"
      ]
    },
    {
      "cell_type": "code",
      "execution_count": 18,
      "metadata": {
        "id": "M356r3p5K98U",
        "outputId": "c90a3ac6-126c-4b67-8ec6-293f5aa88dd5",
        "colab": {
          "base_uri": "https://localhost:8080/"
        }
      },
      "outputs": [
        {
          "output_type": "stream",
          "name": "stdout",
          "text": [
            "tensor([[5., 5., 5.],\n",
            "        [5., 5., 5.]], grad_fn=<AddBackward0>)\n",
            "tensor([[5., 5., 5.],\n",
            "        [5., 5., 5.]])\n",
            "tensor([[6., 6., 6.],\n",
            "        [6., 6., 6.]], grad_fn=<MulBackward0>)\n"
          ]
        }
      ],
      "source": [
        "a = torch.ones(2, 3, requires_grad=True) * 2\n",
        "b = torch.ones(2, 3, requires_grad=True) * 3\n",
        "\n",
        "c1 = a + b\n",
        "print(c1)\n",
        "\n",
        "with torch.no_grad():\n",
        "    c2 = a + b\n",
        "\n",
        "print(c2)\n",
        "\n",
        "c3 = a * b\n",
        "print(c3)"
      ]
    },
    {
      "cell_type": "markdown",
      "metadata": {
        "id": "rrGFNK0hK98V"
      },
      "source": [
        "`torch.no_grad()` can also be used as a function or method decorator:\n"
      ]
    },
    {
      "cell_type": "code",
      "execution_count": 19,
      "metadata": {
        "id": "Qk9heAdSK98V",
        "outputId": "3aa1c6c3-56ab-4472-feea-93d16b0f0702",
        "colab": {
          "base_uri": "https://localhost:8080/"
        }
      },
      "outputs": [
        {
          "output_type": "stream",
          "name": "stdout",
          "text": [
            "tensor([[5., 5., 5.],\n",
            "        [5., 5., 5.]], grad_fn=<AddBackward0>)\n",
            "tensor([[5., 5., 5.],\n",
            "        [5., 5., 5.]])\n"
          ]
        }
      ],
      "source": [
        "def add_tensors1(x, y):\n",
        "    return x + y\n",
        "\n",
        "@torch.no_grad()\n",
        "def add_tensors2(x, y):\n",
        "    return x + y\n",
        "\n",
        "\n",
        "a = torch.ones(2, 3, requires_grad=True) * 2\n",
        "b = torch.ones(2, 3, requires_grad=True) * 3\n",
        "\n",
        "c1 = add_tensors1(a, b)\n",
        "print(c1)\n",
        "\n",
        "c2 = add_tensors2(a, b)\n",
        "print(c2)"
      ]
    },
    {
      "cell_type": "markdown",
      "metadata": {
        "id": "FViLFsrfK98V"
      },
      "source": [
        "There's a corresponding context manager, `torch.enable_grad()`, for\n",
        "turning autograd on when it isn't already. It may also be used as a\n",
        "decorator.\n",
        "\n",
        "Finally, you may have a tensor that requires gradient tracking, but you\n",
        "want a copy that does not. For this we have the `Tensor` object's\n",
        "`detach()` method - it creates a copy of the tensor that is *detached*\n",
        "from the computation history:\n"
      ]
    },
    {
      "cell_type": "code",
      "execution_count": 20,
      "metadata": {
        "id": "IMC4VRafK98a",
        "outputId": "ed5d4b51-fb59-41fc-c489-5995402750c8",
        "colab": {
          "base_uri": "https://localhost:8080/"
        }
      },
      "outputs": [
        {
          "output_type": "stream",
          "name": "stdout",
          "text": [
            "tensor([0.8771, 0.3450, 0.9401, 0.3653, 0.8327], requires_grad=True)\n",
            "tensor([0.8771, 0.3450, 0.9401, 0.3653, 0.8327])\n"
          ]
        }
      ],
      "source": [
        "x = torch.rand(5, requires_grad=True)\n",
        "y = x.detach()\n",
        "\n",
        "print(x)\n",
        "print(y)"
      ]
    },
    {
      "cell_type": "markdown",
      "metadata": {
        "id": "28df_i-YK98a"
      },
      "source": [
        "We did this above when we wanted to graph some of our tensors. This is\n",
        "because `matplotlib` expects a NumPy array as input, and the implicit\n",
        "conversion from a PyTorch tensor to a NumPy array is not enabled for\n",
        "tensors with requires\\_grad=True. Making a detached copy lets us move\n",
        "forward.\n",
        "\n",
        "Autograd and In-place Operations\n",
        "================================\n",
        "\n",
        "In every example in this notebook so far, we've used variables to\n",
        "capture the intermediate values of a computation. Autograd needs these\n",
        "intermediate values to perform gradient computations. *For this reason,\n",
        "you must be careful about using in-place operations when using\n",
        "autograd.* Doing so can destroy information you need to compute\n",
        "derivatives in the `backward()` call. PyTorch will even stop you if you\n",
        "attempt an in-place operation on leaf variable that requires autograd,\n",
        "as shown below.\n",
        "\n",
        "<div style=\"background-color: #54c7ec; color: #fff; font-weight: 700; padding-left: 10px; padding-top: 5px; padding-bottom: 5px\"><strong>NOTE:</strong></div>\n",
        "\n",
        "<div style=\"background-color: #f3f4f7; padding-left: 10px; padding-top: 10px; padding-bottom: 10px; padding-right: 10px\">\n",
        "\n",
        "<p>The following code cell throws a runtime error. This is expected.<pre><code>a = torch.linspace(0., 2. * math.pi, steps=25, requires_grad=True)\n",
        "torch.sin_(a)</code></pre></p>\n",
        "\n",
        "</div>\n",
        "\n"
      ]
    },
    {
      "cell_type": "markdown",
      "metadata": {
        "id": "ggggTSbTK98a"
      },
      "source": [
        "Autograd Profiler\n",
        "=================\n",
        "\n",
        "Autograd tracks every step of your computation in detail. Such a\n",
        "computation history, combined with timing information, would make a\n",
        "handy profiler - and autograd has that feature baked in. Here's a quick\n",
        "example usage:\n"
      ]
    },
    {
      "cell_type": "code",
      "execution_count": 21,
      "metadata": {
        "id": "8B02ih8bK98b",
        "outputId": "90ddfce0-15bd-4353-9159-ca1cb212c2ea",
        "colab": {
          "base_uri": "https://localhost:8080/"
        }
      },
      "outputs": [
        {
          "output_type": "stream",
          "name": "stdout",
          "text": [
            "-------------  ------------  ------------  ------------  ------------  ------------  ------------  \n",
            "         Name    Self CPU %      Self CPU   CPU total %     CPU total  CPU time avg    # of Calls  \n",
            "-------------  ------------  ------------  ------------  ------------  ------------  ------------  \n",
            "    aten::div        50.67%       4.348ms        50.67%       4.348ms       4.348us          1000  \n",
            "    aten::mul        49.33%       4.232ms        49.33%       4.232ms       4.232us          1000  \n",
            "-------------  ------------  ------------  ------------  ------------  ------------  ------------  \n",
            "Self CPU time total: 8.580ms\n",
            "\n"
          ]
        }
      ],
      "source": [
        "device = torch.device('cpu')\n",
        "run_on_gpu = False\n",
        "if torch.cuda.is_available():\n",
        "    device = torch.device('cuda')\n",
        "    run_on_gpu = True\n",
        "\n",
        "x = torch.randn(2, 3, requires_grad=True)\n",
        "y = torch.rand(2, 3, requires_grad=True)\n",
        "z = torch.ones(2, 3, requires_grad=True)\n",
        "\n",
        "with torch.autograd.profiler.profile(use_cuda=run_on_gpu) as prf:\n",
        "    for _ in range(1000):\n",
        "        z = (z / x) * y\n",
        "\n",
        "print(prf.key_averages().table(sort_by='self_cpu_time_total'))"
      ]
    },
    {
      "cell_type": "markdown",
      "metadata": {
        "id": "zNh94AUmK98b"
      },
      "source": [
        "The profiler can also label individual sub-blocks of code, break out the\n",
        "data by input tensor shape, and export data as a Chrome tracing tools\n",
        "file. For full details of the API, see the\n",
        "[documentation](https://pytorch.org/docs/stable/autograd.html#profiler).\n",
        "\n",
        "Advanced Topic: More Autograd Detail and the High-Level API\n",
        "===========================================================\n",
        "\n",
        "If you have a function with an n-dimensional input and m-dimensional\n",
        "output, $\\vec{y}=f(\\vec{x})$, the complete gradient is a matrix of the\n",
        "derivative of every output with respect to every input, called the\n",
        "*Jacobian:*\n",
        "\n",
        "$$\\begin{aligned}\n",
        "J\n",
        "=\n",
        "\\left(\\begin{array}{ccc}\n",
        "\\frac{\\partial y_{1}}{\\partial x_{1}} & \\cdots & \\frac{\\partial y_{1}}{\\partial x_{n}}\\\\\n",
        "\\vdots & \\ddots & \\vdots\\\\\n",
        "\\frac{\\partial y_{m}}{\\partial x_{1}} & \\cdots & \\frac{\\partial y_{m}}{\\partial x_{n}}\n",
        "\\end{array}\\right)\n",
        "\\end{aligned}$$\n",
        "\n",
        "If you have a second function, $l=g\\left(\\vec{y}\\right)$ that takes\n",
        "m-dimensional input (that is, the same dimensionality as the output\n",
        "above), and returns a scalar output, you can express its gradients with\n",
        "respect to $\\vec{y}$ as a column vector,\n",
        "$v=\\left(\\begin{array}{ccc}\\frac{\\partial l}{\\partial y_{1}} & \\cdots & \\frac{\\partial l}{\\partial y_{m}}\\end{array}\\right)^{T}$\n",
        "- which is really just a one-column Jacobian.\n",
        "\n",
        "More concretely, imagine the first function as your PyTorch model (with\n",
        "potentially many inputs and many outputs) and the second function as a\n",
        "loss function (with the model's output as input, and the loss value as\n",
        "the scalar output).\n",
        "\n",
        "If we multiply the first function's Jacobian by the gradient of the\n",
        "second function, and apply the chain rule, we get:\n",
        "\n",
        "$$\\begin{aligned}\n",
        "J^{T}\\cdot v=\\left(\\begin{array}{ccc}\n",
        "\\frac{\\partial y_{1}}{\\partial x_{1}} & \\cdots & \\frac{\\partial y_{m}}{\\partial x_{1}}\\\\\n",
        "\\vdots & \\ddots & \\vdots\\\\\n",
        "\\frac{\\partial y_{1}}{\\partial x_{n}} & \\cdots & \\frac{\\partial y_{m}}{\\partial x_{n}}\n",
        "\\end{array}\\right)\\left(\\begin{array}{c}\n",
        "\\frac{\\partial l}{\\partial y_{1}}\\\\\n",
        "\\vdots\\\\\n",
        "\\frac{\\partial l}{\\partial y_{m}}\n",
        "\\end{array}\\right)=\\left(\\begin{array}{c}\n",
        "\\frac{\\partial l}{\\partial x_{1}}\\\\\n",
        "\\vdots\\\\\n",
        "\\frac{\\partial l}{\\partial x_{n}}\n",
        "\\end{array}\\right)\n",
        "\\end{aligned}$$\n",
        "\n",
        "Note: You could also use the equivalent operation $v^{T}\\cdot J$, and\n",
        "get back a row vector.\n",
        "\n",
        "The resulting column vector is the *gradient of the second function with\n",
        "respect to the inputs of the first* - or in the case of our model and\n",
        "loss function, the gradient of the loss with respect to the model\n",
        "inputs.\n",
        "\n",
        "**\\`\\`torch.autograd\\`\\` is an engine for computing these products.**\n",
        "This is how we accumulate the gradients over the learning weights during\n",
        "the backward pass.\n",
        "\n",
        "For this reason, the `backward()` call can *also* take an optional\n",
        "vector input. This vector represents a set of gradients over the tensor,\n",
        "which are multiplied by the Jacobian of the autograd-traced tensor that\n",
        "precedes it. Let's try a specific example with a small vector:\n"
      ]
    },
    {
      "cell_type": "code",
      "execution_count": 22,
      "metadata": {
        "id": "JxFvL37CK98b",
        "outputId": "372f0f98-d74c-40fc-88b7-e4464150c80f",
        "colab": {
          "base_uri": "https://localhost:8080/"
        }
      },
      "outputs": [
        {
          "output_type": "stream",
          "name": "stdout",
          "text": [
            "tensor([  239.3112, -1367.2351,  -617.2411], grad_fn=<MulBackward0>)\n"
          ]
        }
      ],
      "source": [
        "x = torch.randn(3, requires_grad=True)\n",
        "\n",
        "y = x * 2\n",
        "while y.data.norm() < 1000:\n",
        "    y = y * 2\n",
        "\n",
        "print(y)"
      ]
    },
    {
      "cell_type": "markdown",
      "metadata": {
        "id": "soH-9qJcK98b"
      },
      "source": [
        "If we tried to call `y.backward()` now, we'd get a runtime error and a\n",
        "message that gradients can only be *implicitly* computed for scalar\n",
        "outputs. For a multi-dimensional output, autograd expects us to provide\n",
        "gradients for those three outputs that it can multiply into the\n",
        "Jacobian:\n"
      ]
    },
    {
      "cell_type": "code",
      "execution_count": 23,
      "metadata": {
        "id": "X5r9QTkhK98b",
        "outputId": "6eb80716-56f4-4580-fd04-99819f87bb13",
        "colab": {
          "base_uri": "https://localhost:8080/"
        }
      },
      "outputs": [
        {
          "output_type": "stream",
          "name": "stdout",
          "text": [
            "tensor([1.0240e+02, 1.0240e+03, 1.0240e-01])\n"
          ]
        }
      ],
      "source": [
        "v = torch.tensor([0.1, 1.0, 0.0001], dtype=torch.float) # stand-in for gradients\n",
        "y.backward(v)\n",
        "\n",
        "print(x.grad)"
      ]
    },
    {
      "cell_type": "markdown",
      "metadata": {
        "id": "xaXorr1TK98b"
      },
      "source": [
        "(Note that the output gradients are all related to powers of two - which\n",
        "we'd expect from a repeated doubling operation.)\n",
        "\n",
        "The High-Level API\n",
        "==================\n",
        "\n",
        "There is an API on autograd that gives you direct access to important\n",
        "differential matrix and vector operations. In particular, it allows you\n",
        "to calculate the Jacobian and the *Hessian* matrices of a particular\n",
        "function for particular inputs. (The Hessian is like the Jacobian, but\n",
        "expresses all partial *second* derivatives.) It also provides methods\n",
        "for taking vector products with these matrices.\n",
        "\n",
        "Let's take the Jacobian of a simple function, evaluated for a 2\n",
        "single-element inputs:\n"
      ]
    },
    {
      "cell_type": "code",
      "execution_count": 24,
      "metadata": {
        "id": "vTyFVbr3K98c",
        "outputId": "83708048-ece5-4a6c-a5f7-cbd60f28ebe2",
        "colab": {
          "base_uri": "https://localhost:8080/"
        }
      },
      "outputs": [
        {
          "output_type": "stream",
          "name": "stdout",
          "text": [
            "(tensor([0.5435]), tensor([0.4224]))\n"
          ]
        },
        {
          "output_type": "execute_result",
          "data": {
            "text/plain": [
              "(tensor([[3.4442]]), tensor([[3.]]))"
            ]
          },
          "metadata": {},
          "execution_count": 24
        }
      ],
      "source": [
        "def exp_adder(x, y):\n",
        "    return 2 * x.exp() + 3 * y\n",
        "\n",
        "inputs = (torch.rand(1), torch.rand(1)) # arguments for the function\n",
        "print(inputs)\n",
        "torch.autograd.functional.jacobian(exp_adder, inputs)"
      ]
    },
    {
      "cell_type": "markdown",
      "metadata": {
        "id": "7O8AQaknK98c"
      },
      "source": [
        "If you look closely, the first output should equal $2e^x$ (since the\n",
        "derivative of $e^x$ is $e^x$), and the second value should be 3.\n",
        "\n",
        "You can, of course, do this with higher-order tensors:\n"
      ]
    },
    {
      "cell_type": "code",
      "execution_count": 25,
      "metadata": {
        "id": "Ukoyrn0VK98c",
        "outputId": "3db27fa2-a251-4d3f-8533-95ca77cdc483",
        "colab": {
          "base_uri": "https://localhost:8080/"
        }
      },
      "outputs": [
        {
          "output_type": "stream",
          "name": "stdout",
          "text": [
            "(tensor([0.4912, 0.0593, 0.4714]), tensor([0.0094, 0.2952, 0.8923]))\n"
          ]
        },
        {
          "output_type": "execute_result",
          "data": {
            "text/plain": [
              "(tensor([[3.2686, 0.0000, 0.0000],\n",
              "         [0.0000, 2.1222, 0.0000],\n",
              "         [0.0000, 0.0000, 3.2044]]),\n",
              " tensor([[3., 0., 0.],\n",
              "         [0., 3., 0.],\n",
              "         [0., 0., 3.]]))"
            ]
          },
          "metadata": {},
          "execution_count": 25
        }
      ],
      "source": [
        "inputs = (torch.rand(3), torch.rand(3)) # arguments for the function\n",
        "print(inputs)\n",
        "torch.autograd.functional.jacobian(exp_adder, inputs)"
      ]
    },
    {
      "cell_type": "markdown",
      "metadata": {
        "id": "MJEXKbmPK98c"
      },
      "source": [
        "The `torch.autograd.functional.hessian()` method works identically\n",
        "(assuming your function is twice differentiable), but returns a matrix\n",
        "of all second derivatives.\n",
        "\n",
        "There is also a function to directly compute the vector-Jacobian\n",
        "product, if you provide the vector:\n"
      ]
    },
    {
      "cell_type": "code",
      "execution_count": 26,
      "metadata": {
        "id": "idUR0FA0K98c",
        "outputId": "dcad6880-30f7-45f3-fddd-162b9a96844f",
        "colab": {
          "base_uri": "https://localhost:8080/"
        }
      },
      "outputs": [
        {
          "output_type": "execute_result",
          "data": {
            "text/plain": [
              "(tensor([-997.0136,   -4.9780,  906.2719]),\n",
              " tensor([1.0240e+02, 1.0240e+03, 1.0240e-01]))"
            ]
          },
          "metadata": {},
          "execution_count": 26
        }
      ],
      "source": [
        "def do_some_doubling(x):\n",
        "    y = x * 2\n",
        "    while y.data.norm() < 1000:\n",
        "        y = y * 2\n",
        "    return y\n",
        "\n",
        "inputs = torch.randn(3)\n",
        "my_gradients = torch.tensor([0.1, 1.0, 0.0001])\n",
        "torch.autograd.functional.vjp(do_some_doubling, inputs, v=my_gradients)"
      ]
    },
    {
      "cell_type": "markdown",
      "metadata": {
        "id": "e2wolXBgK98c"
      },
      "source": [
        "The `torch.autograd.functional.jvp()` method performs the same matrix\n",
        "multiplication as `vjp()` with the operands reversed. The `vhp()` and\n",
        "`hvp()` methods do the same for a vector-Hessian product.\n",
        "\n",
        "For more information, including performance notes on the [docs for the\n",
        "functional\n",
        "API](https://pytorch.org/docs/stable/autograd.html#functional-higher-level-api)\n"
      ]
    }
  ],
  "metadata": {
    "kernelspec": {
      "display_name": "Python 3",
      "name": "python3"
    },
    "language_info": {
      "codemirror_mode": {
        "name": "ipython",
        "version": 3
      },
      "file_extension": ".py",
      "mimetype": "text/x-python",
      "name": "python",
      "nbconvert_exporter": "python",
      "pygments_lexer": "ipython3",
      "version": "3.10.12"
    },
    "colab": {
      "provenance": [],
      "include_colab_link": true
    }
  },
  "nbformat": 4,
  "nbformat_minor": 0
}