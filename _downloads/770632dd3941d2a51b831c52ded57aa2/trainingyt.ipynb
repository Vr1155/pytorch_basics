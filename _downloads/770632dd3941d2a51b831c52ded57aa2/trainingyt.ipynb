{
  "cells": [
    {
      "cell_type": "markdown",
      "metadata": {
        "id": "view-in-github",
        "colab_type": "text"
      },
      "source": [
        "<a href=\"https://colab.research.google.com/github/Vr1155/pytorch_basics/blob/main/_downloads/770632dd3941d2a51b831c52ded57aa2/trainingyt.ipynb\" target=\"_parent\"><img src=\"https://colab.research.google.com/assets/colab-badge.svg\" alt=\"Open In Colab\"/></a>"
      ]
    },
    {
      "cell_type": "code",
      "execution_count": 1,
      "metadata": {
        "id": "dVkTHTuGLvjO"
      },
      "outputs": [],
      "source": [
        "# For tips on running notebooks in Google Colab, see\n",
        "# https://pytorch.org/tutorials/beginner/colab\n",
        "%matplotlib inline"
      ]
    },
    {
      "cell_type": "markdown",
      "metadata": {
        "id": "Nf7P1nzjLvjP"
      },
      "source": [
        "[Introduction](introyt1_tutorial.html) \\|\\|\n",
        "[Tensors](tensors_deeper_tutorial.html) \\|\\|\n",
        "[Autograd](autogradyt_tutorial.html) \\|\\| [Building\n",
        "Models](modelsyt_tutorial.html) \\|\\| [TensorBoard\n",
        "Support](tensorboardyt_tutorial.html) \\|\\| **Training Models** \\|\\|\n",
        "[Model Understanding](captumyt.html)\n",
        "\n",
        "Training with PyTorch\n",
        "=====================\n",
        "\n",
        "Follow along with the video below or on\n",
        "[youtube](https://www.youtube.com/watch?v=jF43_wj_DCQ).\n",
        "\n"
      ]
    },
    {
      "cell_type": "code",
      "execution_count": 2,
      "metadata": {
        "id": "e0923e32",
        "outputId": "a1c7d0d9-82d5-4368-ad0a-c3cf5ac62d03",
        "colab": {
          "base_uri": "https://localhost:8080/",
          "height": 356
        }
      },
      "outputs": [
        {
          "output_type": "display_data",
          "data": {
            "text/plain": [
              "<IPython.core.display.HTML object>"
            ],
            "text/html": [
              "\n",
              "<div style=\"margin-top:10px; margin-bottom:10px;\">\n",
              "  <iframe width=\"560\" height=\"315\" src=\"https://www.youtube.com/embed/jF43_wj_DCQ\" frameborder=\"0\" allow=\"accelerometer; encrypted-media; gyroscope; picture-in-picture\" allowfullscreen></iframe>\n",
              "</div>\n"
            ]
          },
          "metadata": {}
        }
      ],
      "source": [
        "# Run this cell to load the video\n",
        "from IPython.display import display, HTML\n",
        "html_code = \"\"\"\n",
        "<div style=\"margin-top:10px; margin-bottom:10px;\">\n",
        "  <iframe width=\"560\" height=\"315\" src=\"https://www.youtube.com/embed/jF43_wj_DCQ\" frameborder=\"0\" allow=\"accelerometer; encrypted-media; gyroscope; picture-in-picture\" allowfullscreen></iframe>\n",
        "</div>\n",
        "\"\"\"\n",
        "display(HTML(html_code))"
      ]
    },
    {
      "cell_type": "markdown",
      "metadata": {
        "id": "3b2b3c77"
      },
      "source": [
        "\n",
        "\n",
        "Introduction\n",
        "------------\n",
        "\n",
        "In past videos, we've discussed and demonstrated:\n",
        "\n",
        "-   Building models with the neural network layers and functions of the\n",
        "    torch.nn module\n",
        "-   The mechanics of automated gradient computation, which is central to\n",
        "    gradient-based model training\n",
        "-   Using TensorBoard to visualize training progress and other\n",
        "    activities\n",
        "\n",
        "In this video, we'll be adding some new tools to your inventory:\n",
        "\n",
        "-   We'll get familiar with the dataset and dataloader abstractions, and\n",
        "    how they ease the process of feeding data to your model during a\n",
        "    training loop\n",
        "-   We'll discuss specific loss functions and when to use them\n",
        "-   We'll look at PyTorch optimizers, which implement algorithms to\n",
        "    adjust model weights based on the outcome of a loss function\n",
        "\n",
        "Finally, we'll pull all of these together and see a full PyTorch\n",
        "training loop in action.\n",
        "\n",
        "Dataset and DataLoader\n",
        "----------------------\n",
        "\n",
        "The `Dataset` and `DataLoader` classes encapsulate the process of\n",
        "pulling your data from storage and exposing it to your training loop in\n",
        "batches.\n",
        "\n",
        "The `Dataset` is responsible for accessing and processing single\n",
        "instances of data.\n",
        "\n",
        "The `DataLoader` pulls instances of data from the `Dataset` (either\n",
        "automatically or with a sampler that you define), collects them in\n",
        "batches, and returns them for consumption by your training loop. The\n",
        "`DataLoader` works with all kinds of datasets, regardless of the type of\n",
        "data they contain.\n",
        "\n",
        "For this tutorial, we'll be using the Fashion-MNIST dataset provided by\n",
        "TorchVision. We use `torchvision.transforms.Normalize()` to zero-center\n",
        "and normalize the distribution of the image tile content, and download\n",
        "both training and validation data splits.\n"
      ]
    },
    {
      "cell_type": "code",
      "source": [
        "!pip install torch torchvision matplotlib tensorboard"
      ],
      "metadata": {
        "id": "BnJYMa7DMH7Q",
        "outputId": "54cec356-e851-438f-f1cb-9500a3d2287c",
        "colab": {
          "base_uri": "https://localhost:8080/"
        }
      },
      "execution_count": 4,
      "outputs": [
        {
          "output_type": "stream",
          "name": "stdout",
          "text": [
            "Requirement already satisfied: torch in /usr/local/lib/python3.11/dist-packages (2.6.0+cpu)\n",
            "Requirement already satisfied: torchvision in /usr/local/lib/python3.11/dist-packages (0.21.0+cpu)\n",
            "Requirement already satisfied: matplotlib in /usr/local/lib/python3.11/dist-packages (3.10.0)\n",
            "Collecting tensorboard\n",
            "  Downloading tensorboard-2.19.0-py3-none-any.whl.metadata (1.8 kB)\n",
            "Requirement already satisfied: filelock in /usr/local/lib/python3.11/dist-packages (from torch) (3.18.0)\n",
            "Requirement already satisfied: typing-extensions>=4.10.0 in /usr/local/lib/python3.11/dist-packages (from torch) (4.13.2)\n",
            "Requirement already satisfied: networkx in /usr/local/lib/python3.11/dist-packages (from torch) (3.5)\n",
            "Requirement already satisfied: jinja2 in /usr/local/lib/python3.11/dist-packages (from torch) (3.1.6)\n",
            "Requirement already satisfied: fsspec in /usr/local/lib/python3.11/dist-packages (from torch) (2025.5.1)\n",
            "Requirement already satisfied: sympy==1.13.1 in /usr/local/lib/python3.11/dist-packages (from torch) (1.13.1)\n",
            "Requirement already satisfied: mpmath<1.4,>=1.1.0 in /usr/local/lib/python3.11/dist-packages (from sympy==1.13.1->torch) (1.3.0)\n",
            "Requirement already satisfied: numpy in /usr/local/lib/python3.11/dist-packages (from torchvision) (2.0.2)\n",
            "Requirement already satisfied: pillow!=8.3.*,>=5.3.0 in /usr/local/lib/python3.11/dist-packages (from torchvision) (11.2.1)\n",
            "Requirement already satisfied: contourpy>=1.0.1 in /usr/local/lib/python3.11/dist-packages (from matplotlib) (1.3.2)\n",
            "Requirement already satisfied: cycler>=0.10 in /usr/local/lib/python3.11/dist-packages (from matplotlib) (0.12.1)\n",
            "Requirement already satisfied: fonttools>=4.22.0 in /usr/local/lib/python3.11/dist-packages (from matplotlib) (4.58.1)\n",
            "Requirement already satisfied: kiwisolver>=1.3.1 in /usr/local/lib/python3.11/dist-packages (from matplotlib) (1.4.8)\n",
            "Requirement already satisfied: packaging>=20.0 in /usr/local/lib/python3.11/dist-packages (from matplotlib) (25.0)\n",
            "Requirement already satisfied: pyparsing>=2.3.1 in /usr/local/lib/python3.11/dist-packages (from matplotlib) (3.2.3)\n",
            "Requirement already satisfied: python-dateutil>=2.7 in /usr/local/lib/python3.11/dist-packages (from matplotlib) (2.9.0.post0)\n",
            "Requirement already satisfied: absl-py>=0.4 in /usr/local/lib/python3.11/dist-packages (from tensorboard) (1.4.0)\n",
            "Requirement already satisfied: grpcio>=1.48.2 in /usr/local/lib/python3.11/dist-packages (from tensorboard) (1.71.0)\n",
            "Requirement already satisfied: markdown>=2.6.8 in /usr/lib/python3/dist-packages (from tensorboard) (3.3.6)\n",
            "Requirement already satisfied: protobuf!=4.24.0,>=3.19.6 in /usr/local/lib/python3.11/dist-packages (from tensorboard) (5.29.5)\n",
            "Requirement already satisfied: setuptools>=41.0.0 in /usr/local/lib/python3.11/dist-packages (from tensorboard) (75.2.0)\n",
            "Requirement already satisfied: six>1.9 in /usr/local/lib/python3.11/dist-packages (from tensorboard) (1.17.0)\n",
            "Collecting tensorboard-data-server<0.8.0,>=0.7.0 (from tensorboard)\n",
            "  Downloading tensorboard_data_server-0.7.2-py3-none-manylinux_2_31_x86_64.whl.metadata (1.1 kB)\n",
            "Collecting werkzeug>=1.0.1 (from tensorboard)\n",
            "  Downloading werkzeug-3.1.3-py3-none-any.whl.metadata (3.7 kB)\n",
            "Requirement already satisfied: MarkupSafe>=2.1.1 in /usr/local/lib/python3.11/dist-packages (from werkzeug>=1.0.1->tensorboard) (3.0.2)\n",
            "Downloading tensorboard-2.19.0-py3-none-any.whl (5.5 MB)\n",
            "\u001b[2K   \u001b[90m━━━━━━━━━━━━━━━━━━━━━━━━━━━━━━━━━━━━━━━━\u001b[0m \u001b[32m5.5/5.5 MB\u001b[0m \u001b[31m43.6 MB/s\u001b[0m eta \u001b[36m0:00:00\u001b[0m\n",
            "\u001b[?25hDownloading tensorboard_data_server-0.7.2-py3-none-manylinux_2_31_x86_64.whl (6.6 MB)\n",
            "\u001b[2K   \u001b[90m━━━━━━━━━━━━━━━━━━━━━━━━━━━━━━━━━━━━━━━━\u001b[0m \u001b[32m6.6/6.6 MB\u001b[0m \u001b[31m105.2 MB/s\u001b[0m eta \u001b[36m0:00:00\u001b[0m\n",
            "\u001b[?25hDownloading werkzeug-3.1.3-py3-none-any.whl (224 kB)\n",
            "\u001b[2K   \u001b[90m━━━━━━━━━━━━━━━━━━━━━━━━━━━━━━━━━━━━━━━━\u001b[0m \u001b[32m224.5/224.5 kB\u001b[0m \u001b[31m15.1 MB/s\u001b[0m eta \u001b[36m0:00:00\u001b[0m\n",
            "\u001b[?25hInstalling collected packages: werkzeug, tensorboard-data-server, tensorboard\n",
            "Successfully installed tensorboard-2.19.0 tensorboard-data-server-0.7.2 werkzeug-3.1.3\n"
          ]
        }
      ]
    },
    {
      "cell_type": "code",
      "execution_count": 3,
      "metadata": {
        "id": "PB0GmH58LvjQ",
        "outputId": "cfd721f6-5b33-4289-a1ad-b6336eb8d0f6",
        "colab": {
          "base_uri": "https://localhost:8080/"
        }
      },
      "outputs": [
        {
          "output_type": "stream",
          "name": "stderr",
          "text": [
            "100%|██████████| 26.4M/26.4M [00:01<00:00, 17.0MB/s]\n",
            "100%|██████████| 29.5k/29.5k [00:00<00:00, 265kB/s]\n",
            "100%|██████████| 4.42M/4.42M [00:00<00:00, 5.04MB/s]\n",
            "100%|██████████| 5.15k/5.15k [00:00<00:00, 16.5MB/s]"
          ]
        },
        {
          "output_type": "stream",
          "name": "stdout",
          "text": [
            "Training set has 60000 instances\n",
            "Validation set has 10000 instances\n"
          ]
        },
        {
          "output_type": "stream",
          "name": "stderr",
          "text": [
            "\n"
          ]
        }
      ],
      "source": [
        "import torch\n",
        "import torchvision\n",
        "import torchvision.transforms as transforms\n",
        "\n",
        "# PyTorch TensorBoard support\n",
        "from torch.utils.tensorboard import SummaryWriter\n",
        "from datetime import datetime\n",
        "\n",
        "\n",
        "transform = transforms.Compose(\n",
        "    [transforms.ToTensor(),\n",
        "    transforms.Normalize((0.5,), (0.5,))])\n",
        "\n",
        "# Create datasets for training & validation, download if necessary\n",
        "training_set = torchvision.datasets.FashionMNIST('./data', train=True, transform=transform, download=True)\n",
        "validation_set = torchvision.datasets.FashionMNIST('./data', train=False, transform=transform, download=True)\n",
        "\n",
        "# Create data loaders for our datasets; shuffle for training, not for validation\n",
        "training_loader = torch.utils.data.DataLoader(training_set, batch_size=4, shuffle=True)\n",
        "validation_loader = torch.utils.data.DataLoader(validation_set, batch_size=4, shuffle=False)\n",
        "\n",
        "# Class labels\n",
        "classes = ('T-shirt/top', 'Trouser', 'Pullover', 'Dress', 'Coat',\n",
        "        'Sandal', 'Shirt', 'Sneaker', 'Bag', 'Ankle Boot')\n",
        "\n",
        "# Report split sizes\n",
        "print('Training set has {} instances'.format(len(training_set)))\n",
        "print('Validation set has {} instances'.format(len(validation_set)))"
      ]
    },
    {
      "cell_type": "markdown",
      "metadata": {
        "id": "8WFqEAqhLvjQ"
      },
      "source": [
        "As always, let's visualize the data as a sanity check:\n"
      ]
    },
    {
      "cell_type": "code",
      "execution_count": 4,
      "metadata": {
        "id": "bMjuoFwbLvjQ",
        "outputId": "70a93edc-8dae-4de3-c13b-974081745fce",
        "colab": {
          "base_uri": "https://localhost:8080/",
          "height": 211
        }
      },
      "outputs": [
        {
          "output_type": "stream",
          "name": "stdout",
          "text": [
            "Coat  Sneaker  Dress  T-shirt/top\n"
          ]
        },
        {
          "output_type": "display_data",
          "data": {
            "text/plain": [
              "<Figure size 640x480 with 1 Axes>"
            ],
            "image/png": "[encoded data removed]"
          },
          "metadata": {}
        }
      ],
      "source": [
        "import matplotlib.pyplot as plt\n",
        "import numpy as np\n",
        "\n",
        "# Helper function for inline image display\n",
        "def matplotlib_imshow(img, one_channel=False):\n",
        "    if one_channel:\n",
        "        img = img.mean(dim=0)\n",
        "    img = img / 2 + 0.5     # unnormalize\n",
        "    npimg = img.numpy()\n",
        "    if one_channel:\n",
        "        plt.imshow(npimg, cmap=\"Greys\")\n",
        "    else:\n",
        "        plt.imshow(np.transpose(npimg, (1, 2, 0)))\n",
        "\n",
        "dataiter = iter(training_loader)\n",
        "images, labels = next(dataiter)\n",
        "\n",
        "# Create a grid from the images and show them\n",
        "img_grid = torchvision.utils.make_grid(images)\n",
        "matplotlib_imshow(img_grid, one_channel=True)\n",
        "print('  '.join(classes[labels[j]] for j in range(4)))"
      ]
    },
    {
      "cell_type": "markdown",
      "metadata": {
        "id": "W7quxORZLvjQ"
      },
      "source": [
        "The Model\n",
        "=========\n",
        "\n",
        "The model we'll use in this example is a variant of LeNet-5 - it should\n",
        "be familiar if you've watched the previous videos in this series.\n"
      ]
    },
    {
      "cell_type": "code",
      "execution_count": 5,
      "metadata": {
        "id": "HpubtaM6LvjQ"
      },
      "outputs": [],
      "source": [
        "import torch.nn as nn\n",
        "import torch.nn.functional as F\n",
        "\n",
        "# PyTorch models inherit from torch.nn.Module\n",
        "class GarmentClassifier(nn.Module):\n",
        "    def __init__(self):\n",
        "        super(GarmentClassifier, self).__init__()\n",
        "        self.conv1 = nn.Conv2d(1, 6, 5)\n",
        "        self.pool = nn.MaxPool2d(2, 2)\n",
        "        self.conv2 = nn.Conv2d(6, 16, 5)\n",
        "        self.fc1 = nn.Linear(16 * 4 * 4, 120)\n",
        "        self.fc2 = nn.Linear(120, 84)\n",
        "        self.fc3 = nn.Linear(84, 10)\n",
        "\n",
        "    def forward(self, x):\n",
        "        x = self.pool(F.relu(self.conv1(x)))\n",
        "        x = self.pool(F.relu(self.conv2(x)))\n",
        "        x = x.view(-1, 16 * 4 * 4)\n",
        "        x = F.relu(self.fc1(x))\n",
        "        x = F.relu(self.fc2(x))\n",
        "        x = self.fc3(x)\n",
        "        return x\n",
        "\n",
        "\n",
        "model = GarmentClassifier()"
      ]
    },
    {
      "cell_type": "markdown",
      "metadata": {
        "id": "vSlLZGSrLvjQ"
      },
      "source": [
        "Loss Function\n",
        "=============\n",
        "\n",
        "For this example, we'll be using a cross-entropy loss. For demonstration\n",
        "purposes, we'll create batches of dummy output and label values, run\n",
        "them through the loss function, and examine the result.\n"
      ]
    },
    {
      "cell_type": "code",
      "execution_count": 6,
      "metadata": {
        "id": "H-sHABJHLvjR",
        "outputId": "e1fcc0a3-31dd-4574-9426-9cec2e7c3e7f",
        "colab": {
          "base_uri": "https://localhost:8080/"
        }
      },
      "outputs": [
        {
          "output_type": "stream",
          "name": "stdout",
          "text": [
            "tensor([[0.2401, 0.4844, 0.9191, 0.4950, 0.0587, 0.7197, 0.0584, 0.8990, 0.3823,\n",
            "         0.1248],\n",
            "        [0.0589, 0.8067, 0.2335, 0.9741, 0.8712, 0.4273, 0.7761, 0.1621, 0.5771,\n",
            "         0.6736],\n",
            "        [0.8240, 0.6574, 0.7734, 0.2775, 0.2522, 0.0890, 0.4942, 0.6363, 0.4602,\n",
            "         0.4148],\n",
            "        [0.7673, 0.3386, 0.5987, 0.8928, 0.2653, 0.7735, 0.7133, 0.2063, 0.3234,\n",
            "         0.4408]])\n",
            "tensor([1, 5, 3, 7])\n",
            "Total loss for this batch: 2.4935970306396484\n"
          ]
        }
      ],
      "source": [
        "loss_fn = torch.nn.CrossEntropyLoss()\n",
        "\n",
        "# NB: Loss functions expect data in batches, so we're creating batches of 4\n",
        "# Represents the model's confidence in each of the 10 classes for a given input\n",
        "dummy_outputs = torch.rand(4, 10)\n",
        "# Represents the correct class among the 10 being tested\n",
        "dummy_labels = torch.tensor([1, 5, 3, 7])\n",
        "\n",
        "print(dummy_outputs)\n",
        "print(dummy_labels)\n",
        "\n",
        "loss = loss_fn(dummy_outputs, dummy_labels)\n",
        "print('Total loss for this batch: {}'.format(loss.item()))"
      ]
    },
    {
      "cell_type": "markdown",
      "metadata": {
        "id": "cyEPaYg8LvjR"
      },
      "source": [
        "Optimizer\n",
        "=========\n",
        "\n",
        "For this example, we'll be using simple [stochastic gradient\n",
        "descent](https://pytorch.org/docs/stable/optim.html) with momentum.\n",
        "\n",
        "It can be instructive to try some variations on this optimization\n",
        "scheme:\n",
        "\n",
        "-   Learning rate determines the size of the steps the optimizer takes.\n",
        "    What does a different learning rate do to the your training results,\n",
        "    in terms of accuracy and convergence time?\n",
        "-   Momentum nudges the optimizer in the direction of strongest gradient\n",
        "    over multiple steps. What does changing this value do to your\n",
        "    results?\n",
        "-   Try some different optimization algorithms, such as averaged SGD,\n",
        "    Adagrad, or Adam. How do your results differ?\n"
      ]
    },
    {
      "cell_type": "code",
      "execution_count": 7,
      "metadata": {
        "id": "O_TcqDNPLvjR"
      },
      "outputs": [],
      "source": [
        "# Optimizers specified in the torch.optim package\n",
        "optimizer = torch.optim.SGD(model.parameters(), lr=0.001, momentum=0.9)"
      ]
    },
    {
      "cell_type": "markdown",
      "metadata": {
        "id": "SM4pt4KOLvjR"
      },
      "source": [
        "The Training Loop\n",
        "=================\n",
        "\n",
        "Below, we have a function that performs one training epoch. It\n",
        "enumerates data from the DataLoader, and on each pass of the loop does\n",
        "the following:\n",
        "\n",
        "-   Gets a batch of training data from the DataLoader\n",
        "-   Zeros the optimizer's gradients\n",
        "-   Performs an inference - that is, gets predictions from the model for\n",
        "    an input batch\n",
        "-   Calculates the loss for that set of predictions vs. the labels on\n",
        "    the dataset\n",
        "-   Calculates the backward gradients over the learning weights\n",
        "-   Tells the optimizer to perform one learning step - that is, adjust\n",
        "    the model's learning weights based on the observed gradients for\n",
        "    this batch, according to the optimization algorithm we chose\n",
        "-   It reports on the loss for every 1000 batches.\n",
        "-   Finally, it reports the average per-batch loss for the last 1000\n",
        "    batches, for comparison with a validation run\n"
      ]
    },
    {
      "cell_type": "code",
      "execution_count": 8,
      "metadata": {
        "id": "wsEuj98_LvjR"
      },
      "outputs": [],
      "source": [
        "def train_one_epoch(epoch_index, tb_writer):\n",
        "    running_loss = 0.\n",
        "    last_loss = 0.\n",
        "\n",
        "    # Here, we use enumerate(training_loader) instead of\n",
        "    # iter(training_loader) so that we can track the batch\n",
        "    # index and do some intra-epoch reporting\n",
        "    for i, data in enumerate(training_loader):\n",
        "        # Every data instance is an input + label pair\n",
        "        inputs, labels = data\n",
        "\n",
        "        # Zero your gradients for every batch!\n",
        "        optimizer.zero_grad()\n",
        "\n",
        "        # Make predictions for this batch\n",
        "        outputs = model(inputs)\n",
        "\n",
        "        # Compute the loss and its gradients\n",
        "        loss = loss_fn(outputs, labels)\n",
        "        loss.backward()\n",
        "\n",
        "        # Adjust learning weights\n",
        "        optimizer.step()\n",
        "\n",
        "        # Gather data and report\n",
        "        running_loss += loss.item()\n",
        "        if i % 1000 == 999:\n",
        "            last_loss = running_loss / 1000 # loss per batch\n",
        "            print('  batch {} loss: {}'.format(i + 1, last_loss))\n",
        "            tb_x = epoch_index * len(training_loader) + i + 1\n",
        "            tb_writer.add_scalar('Loss/train', last_loss, tb_x)\n",
        "            running_loss = 0.\n",
        "\n",
        "    return last_loss"
      ]
    },
    {
      "cell_type": "markdown",
      "metadata": {
        "id": "mIMHfg_ILvjR"
      },
      "source": [
        "Per-Epoch Activity\n",
        "==================\n",
        "\n",
        "There are a couple of things we'll want to do once per epoch:\n",
        "\n",
        "-   Perform validation by checking our relative loss on a set of data\n",
        "    that was not used for training, and report this\n",
        "-   Save a copy of the model\n",
        "\n",
        "Here, we'll do our reporting in TensorBoard. This will require going to\n",
        "the command line to start TensorBoard, and opening it in another browser\n",
        "tab.\n"
      ]
    },
    {
      "cell_type": "code",
      "execution_count": 9,
      "metadata": {
        "id": "G9X8CkpRLvjR",
        "outputId": "3e01bdff-97d4-421b-a70c-d8729914de3f",
        "colab": {
          "base_uri": "https://localhost:8080/"
        }
      },
      "outputs": [
        {
          "output_type": "stream",
          "name": "stdout",
          "text": [
            "EPOCH 1:\n",
            "  batch 1000 loss: 2.053124140009284\n",
            "  batch 2000 loss: 0.8964908273611217\n",
            "  batch 3000 loss: 0.755174658343196\n",
            "  batch 4000 loss: 0.6600834409717936\n",
            "  batch 5000 loss: 0.5977057777540759\n",
            "  batch 6000 loss: 0.5647683007908054\n",
            "  batch 7000 loss: 0.5323241544421762\n",
            "  batch 8000 loss: 0.48532089141372126\n",
            "  batch 9000 loss: 0.5013405383722856\n",
            "  batch 10000 loss: 0.47814092892827464\n",
            "  batch 11000 loss: 0.4645811890148325\n",
            "  batch 12000 loss: 0.42574419599463\n",
            "  batch 13000 loss: 0.4232453719849\n",
            "  batch 14000 loss: 0.4405118704958586\n",
            "  batch 15000 loss: 0.4344058631122025\n",
            "LOSS train 0.4344058631122025 valid 0.4380720257759094\n",
            "EPOCH 2:\n",
            "  batch 1000 loss: 0.40575661413831404\n",
            "  batch 2000 loss: 0.38635789412111626\n",
            "  batch 3000 loss: 0.3868547067890177\n",
            "  batch 4000 loss: 0.37591829163226065\n",
            "  batch 5000 loss: 0.3598872732587624\n",
            "  batch 6000 loss: 0.3634075780307758\n",
            "  batch 7000 loss: 0.394782373005135\n",
            "  batch 8000 loss: 0.3516229409490188\n",
            "  batch 9000 loss: 0.37585287626669744\n",
            "  batch 10000 loss: 0.36078329015980126\n",
            "  batch 11000 loss: 0.3849258306857373\n",
            "  batch 12000 loss: 0.34658012933121063\n",
            "  batch 13000 loss: 0.3450331855285913\n",
            "  batch 14000 loss: 0.3466129026361305\n",
            "  batch 15000 loss: 0.3287056709697936\n",
            "LOSS train 0.3287056709697936 valid 0.3604848086833954\n",
            "EPOCH 3:\n",
            "  batch 1000 loss: 0.34890274466353005\n",
            "  batch 2000 loss: 0.33277461872267305\n",
            "  batch 3000 loss: 0.3229109510236594\n",
            "  batch 4000 loss: 0.3160426097639138\n",
            "  batch 5000 loss: 0.3024520664450247\n",
            "  batch 6000 loss: 0.33406259560849866\n",
            "  batch 7000 loss: 0.33155643268101265\n",
            "  batch 8000 loss: 0.32057694916673063\n",
            "  batch 9000 loss: 0.3299486269916524\n",
            "  batch 10000 loss: 0.3200997393382859\n",
            "  batch 11000 loss: 0.3167925155171688\n",
            "  batch 12000 loss: 0.33413052355723266\n",
            "  batch 13000 loss: 0.3071643625938705\n",
            "  batch 14000 loss: 0.3072516173273907\n",
            "  batch 15000 loss: 0.3097007705916767\n",
            "LOSS train 0.3097007705916767 valid 0.33026260137557983\n",
            "EPOCH 4:\n",
            "  batch 1000 loss: 0.32541217301350117\n",
            "  batch 2000 loss: 0.28375780943884454\n",
            "  batch 3000 loss: 0.3069495098419429\n",
            "  batch 4000 loss: 0.3006700156920706\n",
            "  batch 5000 loss: 0.31059923113598054\n",
            "  batch 6000 loss: 0.2988171514249061\n",
            "  batch 7000 loss: 0.2909471966715646\n",
            "  batch 8000 loss: 0.28769183930047804\n",
            "  batch 9000 loss: 0.3048545914284325\n",
            "  batch 10000 loss: 0.3038423860404073\n",
            "  batch 11000 loss: 0.27915359131988954\n",
            "  batch 12000 loss: 0.29206665939628146\n",
            "  batch 13000 loss: 0.28520567391823715\n",
            "  batch 14000 loss: 0.2905563188228989\n",
            "  batch 15000 loss: 0.2926775709041467\n",
            "LOSS train 0.2926775709041467 valid 0.3211365044116974\n",
            "EPOCH 5:\n",
            "  batch 1000 loss: 0.28251919083551\n",
            "  batch 2000 loss: 0.2630143613952496\n",
            "  batch 3000 loss: 0.27777453648895606\n",
            "  batch 4000 loss: 0.2887975785479139\n",
            "  batch 5000 loss: 0.2919768651326303\n",
            "  batch 6000 loss: 0.28170040481731395\n",
            "  batch 7000 loss: 0.2720405610740927\n",
            "  batch 8000 loss: 0.27769087222764577\n",
            "  batch 9000 loss: 0.2704064218014755\n",
            "  batch 10000 loss: 0.27741903117863875\n",
            "  batch 11000 loss: 0.2767408741542586\n",
            "  batch 12000 loss: 0.28562630586467275\n",
            "  batch 13000 loss: 0.27784089759261044\n",
            "  batch 14000 loss: 0.27021930452246945\n",
            "  batch 15000 loss: 0.2886622800290452\n",
            "LOSS train 0.2886622800290452 valid 0.3211439847946167\n"
          ]
        }
      ],
      "source": [
        "# Initializing in a separate cell so we can easily add more epochs to the same run\n",
        "timestamp = datetime.now().strftime('%Y%m%d_%H%M%S')\n",
        "writer = SummaryWriter('runs/fashion_trainer_{}'.format(timestamp))\n",
        "epoch_number = 0\n",
        "\n",
        "EPOCHS = 5\n",
        "\n",
        "best_vloss = 1_000_000.\n",
        "\n",
        "for epoch in range(EPOCHS):\n",
        "    print('EPOCH {}:'.format(epoch_number + 1))\n",
        "\n",
        "    # Make sure gradient tracking is on, and do a pass over the data\n",
        "    model.train(True)\n",
        "    avg_loss = train_one_epoch(epoch_number, writer)\n",
        "\n",
        "\n",
        "    running_vloss = 0.0\n",
        "    # Set the model to evaluation mode, disabling dropout and using population\n",
        "    # statistics for batch normalization.\n",
        "    model.eval()\n",
        "\n",
        "    # Disable gradient computation and reduce memory consumption.\n",
        "    with torch.no_grad():\n",
        "        for i, vdata in enumerate(validation_loader):\n",
        "            vinputs, vlabels = vdata\n",
        "            voutputs = model(vinputs)\n",
        "            vloss = loss_fn(voutputs, vlabels)\n",
        "            running_vloss += vloss\n",
        "\n",
        "    avg_vloss = running_vloss / (i + 1)\n",
        "    print('LOSS train {} valid {}'.format(avg_loss, avg_vloss))\n",
        "\n",
        "    # Log the running loss averaged per batch\n",
        "    # for both training and validation\n",
        "    writer.add_scalars('Training vs. Validation Loss',\n",
        "                    { 'Training' : avg_loss, 'Validation' : avg_vloss },\n",
        "                    epoch_number + 1)\n",
        "    writer.flush()\n",
        "\n",
        "    # Track best performance, and save the model's state\n",
        "    if avg_vloss < best_vloss:\n",
        "        best_vloss = avg_vloss\n",
        "        model_path = 'model_{}_{}'.format(timestamp, epoch_number)\n",
        "        torch.save(model.state_dict(), model_path)\n",
        "\n",
        "    epoch_number += 1"
      ]
    },
    {
      "cell_type": "code",
      "source": [
        "from google.colab import drive\n",
        "drive.mount('/content/drive')"
      ],
      "metadata": {
        "id": "dVAOz-njPgDY",
        "outputId": "2e3154d6-3c57-4ac4-bbfd-351d4859b5f3",
        "colab": {
          "base_uri": "https://localhost:8080/"
        }
      },
      "execution_count": 14,
      "outputs": [
        {
          "output_type": "stream",
          "name": "stdout",
          "text": [
            "Mounted at /content/drive\n"
          ]
        }
      ]
    },
    {
      "cell_type": "code",
      "source": [
        "saved_model = GarmentClassifier()\n",
        "saved_model.load_state_dict(torch.load(\"model_20250605_222333_0\"))"
      ],
      "metadata": {
        "id": "kdToaAipPEfT",
        "outputId": "162cb30c-a654-48ee-d3d7-fe702f2a6e9e",
        "colab": {
          "base_uri": "https://localhost:8080/"
        }
      },
      "execution_count": 15,
      "outputs": [
        {
          "output_type": "execute_result",
          "data": {
            "text/plain": [
              "<All keys matched successfully>"
            ]
          },
          "metadata": {},
          "execution_count": 15
        }
      ]
    },
    {
      "cell_type": "code",
      "source": [
        "saved_model1 = GarmentClassifier()\n",
        "saved_model1.load_state_dict(torch.load(\"model_20250605_222333_1\"))"
      ],
      "metadata": {
        "id": "2csEKpilQMt5",
        "outputId": "b369d064-7a8f-4ead-8d40-918f0d6c562e",
        "colab": {
          "base_uri": "https://localhost:8080/"
        }
      },
      "execution_count": 16,
      "outputs": [
        {
          "output_type": "execute_result",
          "data": {
            "text/plain": [
              "<All keys matched successfully>"
            ]
          },
          "metadata": {},
          "execution_count": 16
        }
      ]
    },
    {
      "cell_type": "code",
      "source": [
        "saved_model2 = GarmentClassifier()\n",
        "saved_model2.load_state_dict(torch.load(\"model_20250605_222333_2\"))"
      ],
      "metadata": {
        "id": "Csp0QauVQNCa",
        "outputId": "d429039f-8a82-407d-fa8f-6d3136635a47",
        "colab": {
          "base_uri": "https://localhost:8080/"
        }
      },
      "execution_count": 17,
      "outputs": [
        {
          "output_type": "execute_result",
          "data": {
            "text/plain": [
              "<All keys matched successfully>"
            ]
          },
          "metadata": {},
          "execution_count": 17
        }
      ]
    },
    {
      "cell_type": "code",
      "source": [
        "saved_model3 = GarmentClassifier()\n",
        "saved_model3.load_state_dict(torch.load(\"model_20250605_222333_3\"))"
      ],
      "metadata": {
        "id": "Mg1W-jPeQNRy",
        "outputId": "5d50c857-325a-45fb-b2bc-ea4ef9b03868",
        "colab": {
          "base_uri": "https://localhost:8080/"
        }
      },
      "execution_count": 18,
      "outputs": [
        {
          "output_type": "execute_result",
          "data": {
            "text/plain": [
              "<All keys matched successfully>"
            ]
          },
          "metadata": {},
          "execution_count": 18
        }
      ]
    },
    {
      "cell_type": "markdown",
      "metadata": {
        "id": "kwK2Sf4GLvjR"
      },
      "source": [
        "To load a saved version of the model:\n",
        "\n",
        "``` {.python}\n",
        "saved_model = GarmentClassifier()\n",
        "saved_model.load_state_dict(torch.load(PATH))\n",
        "```\n",
        "\n",
        "Once you've loaded the model, it's ready for whatever you need it for\n",
        "-more training, inference, or analysis.\n",
        "\n",
        "Note that if your model has constructor parameters that affect model\n",
        "structure, you'll need to provide them and configure the model\n",
        "identically to the state in which it was saved.\n",
        "\n",
        "Other Resources\n",
        "===============\n",
        "\n",
        "-   Docs on the [data\n",
        "    utilities](https://pytorch.org/docs/stable/data.html), including\n",
        "    Dataset and DataLoader, at pytorch.org\n",
        "-   A [note on the use of pinned\n",
        "    memory](https://pytorch.org/docs/stable/notes/cuda.html#cuda-memory-pinning)\n",
        "    for GPU training\n",
        "-   Documentation on the datasets available in\n",
        "    [TorchVision](https://pytorch.org/vision/stable/datasets.html),\n",
        "    [TorchText](https://pytorch.org/text/stable/datasets.html), and\n",
        "    [TorchAudio](https://pytorch.org/audio/stable/datasets.html)\n",
        "-   Documentation on the [loss\n",
        "    functions](https://pytorch.org/docs/stable/nn.html#loss-functions)\n",
        "    available in PyTorch\n",
        "-   Documentation on the [torch.optim\n",
        "    package](https://pytorch.org/docs/stable/optim.html), which includes\n",
        "    optimizers and related tools, such as learning rate scheduling\n",
        "-   A detailed [tutorial on saving and loading\n",
        "    models](https://pytorch.org/tutorials/beginner/saving_loading_models.html)\n",
        "-   The [Tutorials section of\n",
        "    pytorch.org](https://pytorch.org/tutorials/) contains tutorials on a\n",
        "    broad variety of training tasks, including classification in\n",
        "    different domains, generative adversarial networks, reinforcement\n",
        "    learning, and more\n"
      ]
    }
  ],
  "metadata": {
    "kernelspec": {
      "display_name": "Python 3",
      "name": "python3"
    },
    "language_info": {
      "codemirror_mode": {
        "name": "ipython",
        "version": 3
      },
      "file_extension": ".py",
      "mimetype": "text/x-python",
      "name": "python",
      "nbconvert_exporter": "python",
      "pygments_lexer": "ipython3",
      "version": "3.10.12"
    },
    "colab": {
      "provenance": [],
      "machine_shape": "hm",
      "gpuType": "V28",
      "include_colab_link": true
    },
    "accelerator": "TPU"
  },
  "nbformat": 4,
  "nbformat_minor": 0
}